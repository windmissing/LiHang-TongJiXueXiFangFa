{
 "cells": [
  {
   "cell_type": "markdown",
   "metadata": {},
   "source": [
    "# 原始形式"
   ]
  },
  {
   "cell_type": "code",
   "execution_count": 1,
   "metadata": {},
   "outputs": [],
   "source": [
    "import numpy as np\n",
    "import matplotlib.pyplot as plt"
   ]
  },
  {
   "cell_type": "code",
   "execution_count": 8,
   "metadata": {},
   "outputs": [],
   "source": [
    "# 感知机原始形式\n",
    "def perceptron(X, y, eta):\n",
    "    w, b = np.zeros(X.shape[1]),0\n",
    "    while ((y*(w.dot(X.T)+b))<=0).any():\n",
    "        index = np.random.randint(X.shape[0])\n",
    "        if y[index]*(w.dot(X[index])+b) <= 0:\n",
    "            w = w + eta * y[index] * X[index]\n",
    "            b = b + eta * y[index]\n",
    "    def f(x):\n",
    "        return np.sign(w.dot(x)+b)\n",
    "    return w, b, f"
   ]
  },
  {
   "cell_type": "code",
   "execution_count": 9,
   "metadata": {},
   "outputs": [],
   "source": [
    "# 把结果打印出来\n",
    "def plotModel(X, w, b, f):\n",
    "    for x in X:\n",
    "        if f(x) == -1:\n",
    "            plt.scatter(x[0],x[1], color='red')\n",
    "        else:\n",
    "            plt.scatter(x[0],x[1], color='blue')\n",
    "    line_x0 = np.array([1, 5])\n",
    "    if w[1] == 0:\n",
    "        line_x0 = [-b/w[0], -b/w[0]]\n",
    "        line_x1 = [-1, 3]\n",
    "    else:\n",
    "        line_x1 = np.array((-b - w[0]*line_x0) / w[1])\n",
    "    # plt.scatter(X[index,0],X[index,1], s=150, c='none', alpha=0.7, linewidth=1.5, edgecolor='#AB3319')\n",
    "    plt.plot(line_x0, line_x1)\n",
    "    plt.show()"
   ]
  },
  {
   "cell_type": "code",
   "execution_count": 10,
   "metadata": {},
   "outputs": [
    {
     "data": {
      "image/png": "[encoded data removed]",
      "text/plain": [
       "<Figure size 432x288 with 1 Axes>"
      ]
     },
     "metadata": {
      "needs_background": "light"
     },
     "output_type": "display_data"
    }
   ],
   "source": [
    "# 书上的例子\n",
    "X = np.array([[3,3],[4,3],[1,1]])\n",
    "w, b, f = perceptron(X, np.array([1,1,-1]), eta=1)\n",
    "plotModel(X, w, b, f)"
   ]
  },
  {
   "cell_type": "markdown",
   "metadata": {},
   "source": [
    "打一份线性可分的数据\n",
    "我选择了skearn.datasets的iris数据第1类和第2类的后面两个特征"
   ]
  },
  {
   "cell_type": "code",
   "execution_count": 11,
   "metadata": {},
   "outputs": [
    {
     "data": {
      "image/png": "[encoded data removed]",
      "text/plain": [
       "<Figure size 432x288 with 1 Axes>"
      ]
     },
     "metadata": {
      "needs_background": "light"
     },
     "output_type": "display_data"
    }
   ],
   "source": [
    "import numpy as np\n",
    "import matplotlib.pyplot as plt\n",
    "from sklearn import datasets\n",
    "\n",
    "iris = datasets.load_iris()\n",
    "X = iris.data\n",
    "y = iris.target\n",
    "\n",
    "X = X[y<2,2:]\n",
    "y = y[y<2]\n",
    "plt.scatter(X[y==0,0],X[y==0,1], color='red')\n",
    "plt.scatter(X[y==1,0],X[y==1,1], color='blue')\n",
    "plt.show()"
   ]
  },
  {
   "cell_type": "code",
   "execution_count": 12,
   "metadata": {},
   "outputs": [
    {
     "data": {
      "text/plain": [
       "array([-1, -1, -1, -1, -1, -1, -1, -1, -1, -1, -1, -1, -1, -1, -1, -1, -1,\n",
       "       -1, -1, -1, -1, -1, -1, -1, -1, -1, -1, -1, -1, -1, -1, -1, -1, -1,\n",
       "       -1, -1, -1, -1, -1, -1, -1, -1, -1, -1, -1, -1, -1, -1, -1, -1,  1,\n",
       "        1,  1,  1,  1,  1,  1,  1,  1,  1,  1,  1,  1,  1,  1,  1,  1,  1,\n",
       "        1,  1,  1,  1,  1,  1,  1,  1,  1,  1,  1,  1,  1,  1,  1,  1,  1,\n",
       "        1,  1,  1,  1,  1,  1,  1,  1,  1,  1,  1,  1,  1,  1,  1])"
      ]
     },
     "execution_count": 12,
     "metadata": {},
     "output_type": "execute_result"
    }
   ],
   "source": [
    "y[y==0]=-1\n",
    "y"
   ]
  },
  {
   "cell_type": "markdown",
   "metadata": {},
   "source": [
    "由于感知机要求的y的标签为-1和1，当前y的标签为0，1\n",
    "需要把标签0全部改成标签-1"
   ]
  },
  {
   "cell_type": "code",
   "execution_count": 13,
   "metadata": {},
   "outputs": [
    {
     "data": {
      "image/png": "[encoded data removed]",
      "text/plain": [
       "<Figure size 432x288 with 1 Axes>"
      ]
     },
     "metadata": {
      "needs_background": "light"
     },
     "output_type": "display_data"
    }
   ],
   "source": [
    "# iris数据\n",
    "w, b, f = perceptron(X, y, eta=0.01)\n",
    "plotModel(X, w, b, f)"
   ]
  },
  {
   "cell_type": "code",
   "execution_count": null,
   "metadata": {},
   "outputs": [],
   "source": []
  }
 ],
 "metadata": {
  "kernelspec": {
   "display_name": "Python 3",
   "language": "python",
   "name": "python3"
  },
  "language_info": {
   "codemirror_mode": {
    "name": "ipython",
    "version": 3
   },
   "file_extension": ".py",
   "mimetype": "text/x-python",
   "name": "python",
   "nbconvert_exporter": "python",
   "pygments_lexer": "ipython3",
   "version": "3.7.3"
  }
 },
 "nbformat": 4,
 "nbformat_minor": 2
}
