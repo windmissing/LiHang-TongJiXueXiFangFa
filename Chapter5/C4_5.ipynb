{
 "cells": [
  {
   "cell_type": "code",
   "execution_count": 1,
   "metadata": {},
   "outputs": [],
   "source": [
    "import numpy as np"
   ]
  },
  {
   "cell_type": "code",
   "execution_count": 2,
   "metadata": {},
   "outputs": [],
   "source": [
    "# 特征0：0：青年，1：中年，2：老年\n",
    "# 特征1：0：无工作，1：有工作\n",
    "# 特征2：0：无房产，1：有房产\n",
    "# 特征3：0：信贷一般，1：信贷好，2：信贷非常好\n",
    "X = np.array([[0,0,0,0],\n",
    "              [0,0,0,1],\n",
    "              [0,1,0,1],\n",
    "              [0,1,1,0],\n",
    "              [0,0,0,0],\n",
    "              [1,0,0,0],\n",
    "              [1,0,0,1],\n",
    "              [1,1,1,1],\n",
    "              [1,0,1,2],\n",
    "              [1,0,1,2],\n",
    "              [2,0,1,2],\n",
    "              [2,0,1,1],\n",
    "              [2,1,0,1],\n",
    "              [2,1,0,2],\n",
    "              [2,0,0,0]])\n",
    "# 标签：0：不贷款，1：贷款\n",
    "y = np.array([0,0,1,1,0,0,0,1,1,1,1,1,1,1,0])"
   ]
  },
  {
   "cell_type": "code",
   "execution_count": 3,
   "metadata": {},
   "outputs": [],
   "source": [
    "# 特征和标签的可取值范围：\n",
    "def H(y):\n",
    "    sum = 0\n",
    "    # 计算y可取到的值\n",
    "    k = set(y)\n",
    "    for ck in k:\n",
    "        Pk = y[y==ck].shape[0] / y.shape[0]\n",
    "        if Pk != 0:\n",
    "            sum -= Pk * np.log2(Pk)\n",
    "    return sum"
   ]
  },
  {
   "cell_type": "code",
   "execution_count": 4,
   "metadata": {},
   "outputs": [],
   "source": [
    "def multi(y):\n",
    "    ySet = set(y)\n",
    "    bestCount = 0\n",
    "    for yi in ySet:\n",
    "        count = y.count(yi)\n",
    "        if count > bestCount:\n",
    "            bestCount = count\n",
    "            bestyi = yi\n",
    "    return bestyi"
   ]
  },
  {
   "cell_type": "code",
   "execution_count": 34,
   "metadata": {},
   "outputs": [],
   "source": [
    "def gRDA(X, y, feature):\n",
    "    # 计算X的每个特征可取到的值\n",
    "    a = set(X[:,feature])\n",
    "    # 计算数据集的经验熵\n",
    "    HD = H(y)\n",
    "    # 计算特征A对数据集D的经验条件熵H(D|A)\n",
    "    HDA = 0\n",
    "    for value in a:\n",
    "        yDi = y[X[:,feature]==value]\n",
    "        HDA += yDi.shape[0]/y.shape[0] * H(yDi)\n",
    "    return (HD - HDA)/HD\n",
    "\n",
    "def C45(X, y, epsilon):\n",
    "    # 若D中所有实例属于同一类\n",
    "    if len(set(y))==1:\n",
    "        # 将类$$C_k$$作为该结点的类标记\n",
    "        return {'entropy':0, 'label':y[0], 'Nt':X.shape[0]}\n",
    "    # 若$$A=\\emptyset$$\n",
    "    if X.shape[1] == 0:\n",
    "        # 实例数最大的类$$C_k$$作为该结点的类标记\n",
    "        return {'entropy':H(y), 'label':multi(y), 'Nt':X.shape[0]}\n",
    "    bestInfo = 0\n",
    "    # 计算A中各个特征对D的信息增益\n",
    "    for feature in range(X.shape[1]):\n",
    "        info = gRDA(X, y, feature)\n",
    "        # 选择信息特征最大的Ag\n",
    "        if info > bestInfo:\n",
    "            bestInfo = info\n",
    "            bestfeature = feature\n",
    "    # 如果Ag的信息增益小于阈值$$\\epsilon$$\n",
    "    if bestInfo < epsilon:\n",
    "        # 将D中实例数最大的类$$C_k$$作为该结点的类标记\n",
    "        return multi(y)\n",
    "    feature = bestfeature\n",
    "    ret = {'feature':feature, 'entropy':H(y), 'Nt':X.shape[0], 'child':{}}\n",
    "    # 对Ag的每一个可能的值ai\n",
    "    a = set(X[:, feature])\n",
    "    for ai in a:\n",
    "        yai = y[X[:,feature] == ai]\n",
    "        Xai = X[X[:,feature] == ai]\n",
    "        ret['child'][ai] = C45(Xai, yai, epsilon)\n",
    "    return ret"
   ]
  },
  {
   "cell_type": "code",
   "execution_count": 35,
   "metadata": {},
   "outputs": [
    {
     "data": {
      "text/plain": [
       "{'feature': 2,\n",
       " 'entropy': 0.9709505944546686,\n",
       " 'Nt': 15,\n",
       " 'child': {0: {'feature': 1,\n",
       "   'entropy': 0.9182958340544896,\n",
       "   'Nt': 9,\n",
       "   'child': {0: {'entropy': 0, 'label': 0, 'Nt': 6},\n",
       "    1: {'entropy': 0, 'label': 1, 'Nt': 3}}},\n",
       "  1: {'entropy': 0, 'label': 1, 'Nt': 6}}}"
      ]
     },
     "execution_count": 35,
     "metadata": {},
     "output_type": "execute_result"
    }
   ],
   "source": [
    "C45(X, y, 0)"
   ]
  },
  {
   "cell_type": "code",
   "execution_count": 50,
   "metadata": {},
   "outputs": [],
   "source": [
    "def isTree(Node):\n",
    "    #print (Node)\n",
    "    return 'child' in Node.keys()\n",
    "\n",
    "def Clip(Node):\n",
    "    bestNt = 0\n",
    "    for value in Node['child']:\n",
    "        if Node['child'][value]['Nt'] > bestNt:\n",
    "            bestNt = Node['child'][value]['Nt']\n",
    "            bestLabel = Node['child'][value]['label']\n",
    "    Node['label'] = bestLabel\n",
    "    Node.pop('child')\n",
    "    \n",
    "def Merge(Node, alpha):\n",
    "    # 计算CaTb\n",
    "    CT_b = 0\n",
    "    for value in Node['child']:\n",
    "        CT_b = CT_b + Node['child'][value]['Nt'] * Node['child'][value]['entropy'] + alpha\n",
    "    # 计算CaTa\n",
    "    CT_a = Node['entropy'] + alpha\n",
    "    # 剪枝的条件\n",
    "    if CT_a <= CT_b:\n",
    "        Clip(Node)\n",
    "        \n",
    "def prune(Node, alpha):\n",
    "    # 判断子结点中是否存在树\n",
    "    for value in Node['child']:\n",
    "        # 如果存在树\n",
    "        if isTree(Node['child'][value]):\n",
    "            # 先对树子结点做prune\n",
    "            prune(Node['child'][value], alpha)\n",
    "    # 对所有子树都prune之后，判断是否所有子树都是叶子\n",
    "    isAllLeaf = True\n",
    "    for value in Node['child']:\n",
    "        if isTree(Node['child'][value]):\n",
    "            isAllLeaf = False\n",
    "            break\n",
    "    # 如果所有子树都是叶子\n",
    "    if isAllLeaf:\n",
    "        # 尝试对结点做剪枝\n",
    "        Merge(Node, alpha)"
   ]
  },
  {
   "cell_type": "code",
   "execution_count": 53,
   "metadata": {},
   "outputs": [
    {
     "name": "stdout",
     "output_type": "stream",
     "text": [
      "{'feature': 2, 'entropy': 0.9709505944546686, 'Nt': 15, 'child': {0: {'feature': 1, 'entropy': 0.9182958340544896, 'Nt': 9, 'child': {0: {'entropy': 0, 'label': 0, 'Nt': 6}, 1: {'entropy': 0, 'label': 1, 'Nt': 3}}}, 1: {'entropy': 0, 'label': 1, 'Nt': 6}}}\n",
      "{'feature': 2, 'entropy': 0.9709505944546686, 'Nt': 15, 'label': 0}\n"
     ]
    }
   ],
   "source": [
    "tree = C45(X, y, 0)\n",
    "print (tree)\n",
    "prune(tree, 10)\n",
    "print (tree)"
   ]
  },
  {
   "cell_type": "code",
   "execution_count": null,
   "metadata": {},
   "outputs": [],
   "source": []
  }
 ],
 "metadata": {
  "kernelspec": {
   "display_name": "Python 3",
   "language": "python",
   "name": "python3"
  },
  "language_info": {
   "codemirror_mode": {
    "name": "ipython",
    "version": 3
   },
   "file_extension": ".py",
   "mimetype": "text/x-python",
   "name": "python",
   "nbconvert_exporter": "python",
   "pygments_lexer": "ipython3",
   "version": "3.7.3"
  }
 },
 "nbformat": 4,
 "nbformat_minor": 2
}
