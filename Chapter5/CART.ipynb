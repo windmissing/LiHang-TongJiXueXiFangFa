{
 "cells": [
  {
   "cell_type": "code",
   "execution_count": 139,
   "metadata": {},
   "outputs": [],
   "source": [
    "import numpy as np"
   ]
  },
  {
   "cell_type": "code",
   "execution_count": 140,
   "metadata": {},
   "outputs": [],
   "source": [
    "# 特征0：0：青年，1：中年，2：老年\n",
    "# 特征1：0：无工作，1：有工作\n",
    "# 特征2：0：无房产，1：有房产\n",
    "# 特征3：0：信贷一般，1：信贷好，2：信贷非常好\n",
    "X = np.array([[0,0,0,0],\n",
    "              [0,0,0,1],\n",
    "              [0,1,0,1],\n",
    "              [0,1,1,0],\n",
    "              [0,0,0,0],\n",
    "              [1,0,0,0],\n",
    "              [1,0,0,1],\n",
    "              [1,1,1,1],\n",
    "              [1,0,1,2],\n",
    "              [1,0,1,2],\n",
    "              [2,0,1,2],\n",
    "              [2,0,1,1],\n",
    "              [2,1,0,1],\n",
    "              [2,1,0,2],\n",
    "              [2,0,0,0]])\n",
    "# 标签：0：不贷款，1：贷款\n",
    "y = np.array([0,0,1,1,0,0,0,1,1,1,1,1,1,1,0])"
   ]
  },
  {
   "cell_type": "code",
   "execution_count": 141,
   "metadata": {},
   "outputs": [],
   "source": [
    "def multi(y):\n",
    "    ySet = set(y)\n",
    "    bestCount = 0\n",
    "    for yi in ySet:\n",
    "        count = list(y).count(yi)\n",
    "        if count > bestCount:\n",
    "            bestCount = count\n",
    "            bestyi = yi\n",
    "    return bestyi"
   ]
  },
  {
   "cell_type": "code",
   "execution_count": 142,
   "metadata": {},
   "outputs": [],
   "source": [
    "def gini(y):\n",
    "    ySet = set(y)\n",
    "    ret, n = 1, y.shape[0]\n",
    "    for yi in ySet:\n",
    "        ret -= (y[y==yi].shape[0]/n)**2\n",
    "    return ret\n",
    "\n",
    "def CART(X, y):\n",
    "    # 若D中所有实例属于同一类$$C_k$$\n",
    "    if len(set(y))==1:\n",
    "        # 将类$$C_k$$作为该结点的类标记\n",
    "        return {'label':y[0], 'gini':0,'Tt':1,'y':y.copy(),'cost':0}\n",
    "    bestGini = np.inf\n",
    "    # 对每个特征feature的每个取值value\n",
    "    for feature in range(X.shape[1]):\n",
    "        for value in set(X[:,feature]):\n",
    "            # 将X分为$$R_1$$和$$R_2$$两个集合\n",
    "            y1 = y[X[:,feature]<= value]\n",
    "            y2 = y[X[:,feature]> value]\n",
    "            # 计算$$R_1$$和$$R_2$$的基尼指数之和\n",
    "            sumGini = y1.shape[0]/y.shape[0]*gini(y1) + y2.shape[0]/y.shape[0]*gini(y2)\n",
    "            # 选择基尼指数计算结果最小的(feature, value)作为当前的最优划分\n",
    "            if sumGini < bestGini:\n",
    "                bestFeature, bestValue, bestGini = feature, value, sumGini\n",
    "    # 基于最优划分生成2个子结点，将数据分配到两个子结点中\n",
    "    node = {'feature':bestFeature,\n",
    "            'value':bestValue,\n",
    "            'gini':gini(y),\n",
    "            'y':y.copy(),\n",
    "            'label':multi(y),\n",
    "            'left':CART(X[X[:,bestFeature]<= bestValue], y[X[:,bestFeature]<= bestValue]),\n",
    "           'right':CART(X[X[:,bestFeature]> bestValue], y[X[:,bestFeature]> bestValue])}\n",
    "    node['Tt'] = node['left']['Tt'] + node['right']['Tt']\n",
    "    node['cost'] = node['left']['Tt']/node['Tt']*node['left']['cost']\n",
    "    + node['right']['Tt']/node['Tt']*node['right']['cost']\n",
    "    return node\n",
    "   "
   ]
  },
  {
   "cell_type": "code",
   "execution_count": 143,
   "metadata": {},
   "outputs": [
    {
     "data": {
      "text/plain": [
       "{'feature': 2,\n",
       " 'value': 0,\n",
       " 'gini': 0.48,\n",
       " 'y': array([0, 0, 1, 1, 0, 0, 0, 1, 1, 1, 1, 1, 1, 1, 0]),\n",
       " 'label': 1,\n",
       " 'left': {'feature': 1,\n",
       "  'value': 0,\n",
       "  'gini': 0.4444444444444445,\n",
       "  'y': array([0, 0, 1, 0, 0, 0, 1, 1, 0]),\n",
       "  'label': 0,\n",
       "  'left': {'label': 0,\n",
       "   'gini': 0,\n",
       "   'Tt': 1,\n",
       "   'y': array([0, 0, 0, 0, 0, 0]),\n",
       "   'cost': 0},\n",
       "  'right': {'label': 1, 'gini': 0, 'Tt': 1, 'y': array([1, 1, 1]), 'cost': 0},\n",
       "  'Tt': 2,\n",
       "  'cost': 0.0},\n",
       " 'right': {'label': 1,\n",
       "  'gini': 0,\n",
       "  'Tt': 1,\n",
       "  'y': array([1, 1, 1, 1, 1, 1]),\n",
       "  'cost': 0},\n",
       " 'Tt': 3,\n",
       " 'cost': 0.0}"
      ]
     },
     "execution_count": 143,
     "metadata": {},
     "output_type": "execute_result"
    }
   ],
   "source": [
    "tree = CART(X, y)\n",
    "tree"
   ]
  },
  {
   "cell_type": "code",
   "execution_count": 144,
   "metadata": {},
   "outputs": [],
   "source": [
    "def isLeaf(Node):\n",
    "    # return type(Node).__name__ != 'dict'\n",
    "    return Node['Tt']==1\n",
    "    \n",
    "def calcAlphaList(Node):\n",
    "    if isLeaf(Node):\n",
    "        return\n",
    "    costNotSplit = Node['gini']\n",
    "    costSplit = Node['cost']\n",
    "    alpha = (costNotSplit-costSplit)/(Node['Tt']-1)\n",
    "    if (alpha<0):\n",
    "        print (Node['Tt'], Node['gini'], Node['y'])\n",
    "        print (Node['right']['Tt'], Node['right']['gini'], Node['left']['y'])\n",
    "        print (Node['left']['Tt'], Node['left']['gini'], Node['right']['y'])\n",
    "    Node['alpha'] = alpha\n",
    "    if alpha < calcAlphaList.bestAlpha:\n",
    "        calcAlphaList.bestAlpha = alpha\n",
    "    calcAlphaList(Node['left'])\n",
    "    calcAlphaList(Node['right'])\n",
    "    \n",
    "def calcTt(Node):\n",
    "    if isLeaf(Node):\n",
    "        return 1\n",
    "    Node['Tt'] = calcTt(Node['left']) + calcTt(Node['right'])\n",
    "    return Node['Tt']\n",
    "\n",
    "def cut(Node, alpha):\n",
    "    if isLeaf(Node):\n",
    "        return\n",
    "    if Node['alpha'] == alpha:\n",
    "        Node.pop('left')\n",
    "        Node.pop('right')\n",
    "        Node.pop('feature')\n",
    "        Node.pop('value')\n",
    "        Node['cost'] = Node['gini']\n",
    "        Node['Tt'] = 1\n",
    "    else:\n",
    "        cut(Node['left'], alpha)\n",
    "        cut(Node['right'], alpha)\n",
    "        \n",
    "def prune(Tree):\n",
    "    TreeList = [Tree.copy()]\n",
    "    while not isLeaf(Tree):\n",
    "        calcTt(Tree)  #每次剪过之后结点会变少，所以Tt要重新计算\n",
    "        calcAlphaList.bestAlpha = np.inf\n",
    "        calcAlphaList(Tree)\n",
    "        print ('alpha',calcAlphaList.bestAlpha)\n",
    "        cut(Tree, calcAlphaList.bestAlpha)\n",
    "        TreeList.append(Tree.copy())\n",
    "        return TreeList"
   ]
  },
  {
   "cell_type": "code",
   "execution_count": 145,
   "metadata": {},
   "outputs": [
    {
     "name": "stdout",
     "output_type": "stream",
     "text": [
      "alpha 0.24\n"
     ]
    },
    {
     "data": {
      "text/plain": [
       "[{'feature': 2,\n",
       "  'value': 0,\n",
       "  'gini': 0.48,\n",
       "  'y': array([0, 0, 1, 1, 0, 0, 0, 1, 1, 1, 1, 1, 1, 1, 0]),\n",
       "  'label': 1,\n",
       "  'left': {'feature': 1,\n",
       "   'value': 0,\n",
       "   'gini': 0.4444444444444445,\n",
       "   'y': array([0, 0, 1, 0, 0, 0, 1, 1, 0]),\n",
       "   'label': 0,\n",
       "   'left': {'label': 0,\n",
       "    'gini': 0,\n",
       "    'Tt': 1,\n",
       "    'y': array([0, 0, 0, 0, 0, 0]),\n",
       "    'cost': 0},\n",
       "   'right': {'label': 1, 'gini': 0, 'Tt': 1, 'y': array([1, 1, 1]), 'cost': 0},\n",
       "   'Tt': 2,\n",
       "   'cost': 0.0,\n",
       "   'alpha': 0.4444444444444445},\n",
       "  'right': {'label': 1,\n",
       "   'gini': 0,\n",
       "   'Tt': 1,\n",
       "   'y': array([1, 1, 1, 1, 1, 1]),\n",
       "   'cost': 0},\n",
       "  'Tt': 3,\n",
       "  'cost': 0.0},\n",
       " {'gini': 0.48,\n",
       "  'y': array([0, 0, 1, 1, 0, 0, 0, 1, 1, 1, 1, 1, 1, 1, 0]),\n",
       "  'label': 1,\n",
       "  'Tt': 1,\n",
       "  'cost': 0.48,\n",
       "  'alpha': 0.24}]"
      ]
     },
     "execution_count": 145,
     "metadata": {},
     "output_type": "execute_result"
    }
   ],
   "source": [
    "tree = CART(X, y)\n",
    "prune(tree)"
   ]
  },
  {
   "cell_type": "code",
   "execution_count": 133,
   "metadata": {},
   "outputs": [
    {
     "data": {
      "image/png": "[encoded data removed]",
      "text/plain": [
       "<Figure size 432x288 with 1 Axes>"
      ]
     },
     "metadata": {
      "needs_background": "light"
     },
     "output_type": "display_data"
    }
   ],
   "source": [
    "import numpy as np\n",
    "import matplotlib.pyplot as plt\n",
    "from sklearn import datasets\n",
    "\n",
    "iris = datasets.load_iris()\n",
    "X = iris.data\n",
    "y = iris.target\n",
    "\n",
    "X = X[y<2,:2]\n",
    "y = y[y<2]\n",
    "plt.scatter(X[y==0,0],X[y==0,1], color='red')\n",
    "plt.scatter(X[y==1,0],X[y==1,1], color='blue')\n",
    "plt.show()"
   ]
  },
  {
   "cell_type": "code",
   "execution_count": 136,
   "metadata": {},
   "outputs": [
    {
     "name": "stdout",
     "output_type": "stream",
     "text": [
      "alpha 0.02172839506172842\n",
      "2\n"
     ]
    },
    {
     "data": {
      "text/plain": [
       "{'feature': 0,\n",
       " 'value': 5.4,\n",
       " 'gini': 0.5,\n",
       " 'y': array([0, 0, 0, 0, 0, 0, 0, 0, 0, 0, 0, 0, 0, 0, 0, 0, 0, 0, 0, 0, 0, 0,\n",
       "        0, 0, 0, 0, 0, 0, 0, 0, 0, 0, 0, 0, 0, 0, 0, 0, 0, 0, 0, 0, 0, 0,\n",
       "        0, 0, 0, 0, 0, 0, 1, 1, 1, 1, 1, 1, 1, 1, 1, 1, 1, 1, 1, 1, 1, 1,\n",
       "        1, 1, 1, 1, 1, 1, 1, 1, 1, 1, 1, 1, 1, 1, 1, 1, 1, 1, 1, 1, 1, 1,\n",
       "        1, 1, 1, 1, 1, 1, 1, 1, 1, 1, 1, 1]),\n",
       " 'label': 0,\n",
       " 'left': {'feature': 1,\n",
       "  'value': 2.7,\n",
       "  'gini': 0.20761245674740492,\n",
       "  'y': array([0, 0, 0, 0, 0, 0, 0, 0, 0, 0, 0, 0, 0, 0, 0, 0, 0, 0, 0, 0, 0, 0,\n",
       "         0, 0, 0, 0, 0, 0, 0, 0, 0, 0, 0, 0, 0, 0, 0, 0, 0, 0, 0, 0, 0, 0,\n",
       "         0, 1, 1, 1, 1, 1, 1]),\n",
       "  'label': 0,\n",
       "  'left': {'feature': 0,\n",
       "   'value': 4.5,\n",
       "   'gini': 0.2777777777777777,\n",
       "   'y': array([0, 1, 1, 1, 1, 1]),\n",
       "   'label': 1,\n",
       "   'left': {'label': 0, 'gini': 0, 'Tt': 1, 'y': array([0])},\n",
       "   'right': {'label': 1, 'gini': 0, 'Tt': 1, 'y': array([1, 1, 1, 1, 1])},\n",
       "   'Tt': 2,\n",
       "   'alpha': 0.2777777777777777},\n",
       "  'right': {'gini': 0,\n",
       "   'y': array([0, 0, 0, 0, 0, 0, 0, 0, 0, 0, 0, 0, 0, 0, 0, 0, 0, 0, 0, 0, 0, 0,\n",
       "          0, 0, 0, 0, 0, 0, 0, 0, 0, 0, 0, 0, 0, 0, 0, 0, 0, 0, 0, 0, 0, 0,\n",
       "          1]),\n",
       "   'label': 0,\n",
       "   'Tt': 1,\n",
       "   'alpha': 0.02172839506172842},\n",
       "  'Tt': 5,\n",
       "  'alpha': 0.02412533640907346},\n",
       " 'right': {'feature': 1,\n",
       "  'value': 3.4,\n",
       "  'gini': 0.18325697625989168,\n",
       "  'y': array([0, 0, 0, 0, 0, 1, 1, 1, 1, 1, 1, 1, 1, 1, 1, 1, 1, 1, 1, 1, 1, 1,\n",
       "         1, 1, 1, 1, 1, 1, 1, 1, 1, 1, 1, 1, 1, 1, 1, 1, 1, 1, 1, 1, 1, 1,\n",
       "         1, 1, 1, 1, 1]),\n",
       "  'label': 1,\n",
       "  'left': {'label': 1,\n",
       "   'gini': 0,\n",
       "   'Tt': 1,\n",
       "   'y': array([1, 1, 1, 1, 1, 1, 1, 1, 1, 1, 1, 1, 1, 1, 1, 1, 1, 1, 1, 1, 1, 1,\n",
       "          1, 1, 1, 1, 1, 1, 1, 1, 1, 1, 1, 1, 1, 1, 1, 1, 1, 1, 1, 1, 1, 1])},\n",
       "  'right': {'label': 0, 'gini': 0, 'Tt': 1, 'y': array([0, 0, 0, 0, 0])},\n",
       "  'Tt': 2,\n",
       "  'alpha': 0.18325697625989168},\n",
       " 'Tt': 7}"
      ]
     },
     "execution_count": 136,
     "metadata": {},
     "output_type": "execute_result"
    }
   ],
   "source": [
    "def predictOne(tree, xTest):\n",
    "    if tree['Tt'] == 1:\n",
    "        return tree['label']\n",
    "    if xTest[tree['feature']] < tree['value']:\n",
    "        return predictOne(tree['left'], xTest)\n",
    "    else:\n",
    "        return predictOne(tree['right'], xTest)\n",
    "    \n",
    "def predict(tree, X, y):\n",
    "    yPredict = np.array([predictOne(tree, xTest) for xTest in X])\n",
    "    return np.sum(yPredict!=y)/y.shape[0]\n",
    "\n",
    "tree = CART(X, y)\n",
    "TreeList = prune(tree)\n",
    "print (len(TreeList))\n",
    "bestError = np.inf\n",
    "for tree in TreeList:\n",
    "    error = predict(tree, X, y)\n",
    "    if error < bestError:\n",
    "        bestError = error\n",
    "        bestTree = tree\n",
    "\n",
    "bestTree"
   ]
  },
  {
   "cell_type": "code",
   "execution_count": null,
   "metadata": {},
   "outputs": [],
   "source": []
  },
  {
   "cell_type": "code",
   "execution_count": null,
   "metadata": {},
   "outputs": [],
   "source": []
  }
 ],
 "metadata": {
  "kernelspec": {
   "display_name": "Python 3",
   "language": "python",
   "name": "python3"
  },
  "language_info": {
   "codemirror_mode": {
    "name": "ipython",
    "version": 3
   },
   "file_extension": ".py",
   "mimetype": "text/x-python",
   "name": "python",
   "nbconvert_exporter": "python",
   "pygments_lexer": "ipython3",
   "version": "3.7.3"
  }
 },
 "nbformat": 4,
 "nbformat_minor": 2
}
