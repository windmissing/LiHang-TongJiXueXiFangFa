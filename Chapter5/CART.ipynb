{
 "cells": [
  {
   "cell_type": "code",
   "execution_count": 1,
   "metadata": {},
   "outputs": [],
   "source": [
    "import numpy as np"
   ]
  },
  {
   "cell_type": "code",
   "execution_count": 2,
   "metadata": {},
   "outputs": [],
   "source": [
    "# 特征0：0：青年，1：中年，2：老年\n",
    "# 特征1：0：无工作，1：有工作\n",
    "# 特征2：0：无房产，1：有房产\n",
    "# 特征3：0：信贷一般，1：信贷好，2：信贷非常好\n",
    "X = np.array([[0,0,0,0],\n",
    "              [0,0,0,1],\n",
    "              [0,1,0,1],\n",
    "              [0,1,1,0],\n",
    "              [0,0,0,0],\n",
    "              [1,0,0,0],\n",
    "              [1,0,0,1],\n",
    "              [1,1,1,1],\n",
    "              [1,0,1,2],\n",
    "              [1,0,1,2],\n",
    "              [2,0,1,2],\n",
    "              [2,0,1,1],\n",
    "              [2,1,0,1],\n",
    "              [2,1,0,2],\n",
    "              [2,0,0,0]])\n",
    "# 标签：0：不贷款，1：贷款\n",
    "y = np.array([0,0,1,1,0,0,0,1,1,1,1,1,1,1,0])"
   ]
  },
  {
   "cell_type": "code",
   "execution_count": 3,
   "metadata": {},
   "outputs": [],
   "source": [
    "def multi(y):\n",
    "    ySet = set(y)\n",
    "    bestCount = 0\n",
    "    for yi in ySet:\n",
    "        count = y.count(yi)\n",
    "        if count > bestCount:\n",
    "            bestCount = count\n",
    "            bestyi = yi\n",
    "    return bestyi"
   ]
  },
  {
   "cell_type": "code",
   "execution_count": 16,
   "metadata": {},
   "outputs": [],
   "source": [
    "def gini(y):\n",
    "    ySet = set(y)\n",
    "    ret, n = 1, y.shape[0]\n",
    "    for yi in ySet:\n",
    "        ret -= (y[y==yi].shape[0]/n)**2\n",
    "    return ret\n",
    "\n",
    "def CART(X, y):\n",
    "    # 若D中所有实例属于同一类$$C_k$$\n",
    "    if len(set(y))==1:\n",
    "        # 将类$$C_k$$作为该结点的类标记\n",
    "        return y[0]\n",
    "    bestGini = np.inf\n",
    "    # 对每个特征feature的每个取值value\n",
    "    for feature in range(X.shape[1]):\n",
    "        for value in set(X[:,feature]):\n",
    "            # 将X分为$$R_1$$和$$R_2$$两个集合\n",
    "            y1 = y[X[:,feature]<= value]\n",
    "            y2 = y[X[:,feature]> value]\n",
    "            # 计算$$R_1$$和$$R_2$$的基尼指数之和\n",
    "            sumGini = gini(y1) + gini(y2)\n",
    "            # 选择基尼指数计算结果最小的(feature, value)作为当前的最优划分\n",
    "            if sumGini < bestGini:\n",
    "                bestFeature, bestValue, bestGini = feature, value, sumGini\n",
    "    # 基于最优划分生成2个子结点，将数据分配到两个子结点中\n",
    "    node = {'feature':bestFeature,\n",
    "            'value':bestValue,\n",
    "            'left':CART(X[X[:,bestFeature]<= bestValue], y[X[:,bestFeature]<= bestValue]),\n",
    "           'right':CART(X[X[:,bestFeature]> bestValue], y[X[:,bestFeature]> bestValue])}\n",
    "    return node\n",
    "   "
   ]
  },
  {
   "cell_type": "code",
   "execution_count": 17,
   "metadata": {},
   "outputs": [
    {
     "data": {
      "text/plain": [
       "{'feature': 2,\n",
       " 'value': 0,\n",
       " 'left': {'feature': 1, 'value': 0, 'left': 0, 'right': 1},\n",
       " 'right': 1}"
      ]
     },
     "execution_count": 17,
     "metadata": {},
     "output_type": "execute_result"
    }
   ],
   "source": [
    "CART(X, y)"
   ]
  },
  {
   "cell_type": "code",
   "execution_count": null,
   "metadata": {},
   "outputs": [],
   "source": []
  }
 ],
 "metadata": {
  "kernelspec": {
   "display_name": "Python 3",
   "language": "python",
   "name": "python3"
  },
  "language_info": {
   "codemirror_mode": {
    "name": "ipython",
    "version": 3
   },
   "file_extension": ".py",
   "mimetype": "text/x-python",
   "name": "python",
   "nbconvert_exporter": "python",
   "pygments_lexer": "ipython3",
   "version": "3.7.3"
  }
 },
 "nbformat": 4,
 "nbformat_minor": 2
}
